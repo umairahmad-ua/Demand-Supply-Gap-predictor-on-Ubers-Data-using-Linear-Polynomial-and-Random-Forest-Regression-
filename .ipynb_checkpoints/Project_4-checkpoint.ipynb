{
 "cells": [
  {
   "cell_type": "code",
   "execution_count": null,
   "metadata": {
    "collapsed": true
   },
   "outputs": [],
   "source": [
    "%pylab inline\n",
    "import scipy.stats\n",
    "from collections import defaultdict\n",
    "import numpy as np\n",
    "import tools as t\n",
    "import pandas as pd\n",
    "from datetime import datetime, date, time\n",
    "import os"
   ]
  },
  {
   "cell_type": "code",
   "execution_count": null,
   "metadata": {
    "collapsed": true
   },
   "outputs": [],
   "source": [
    "def nested_dict_factory(): \n",
    "    return defaultdict(int)\n",
    "def nested_dict_factory2():\n",
    "    return defaultdict(nested_dict_factory)"
   ]
  },
  {
   "cell_type": "code",
   "execution_count": null,
   "metadata": {
    "collapsed": true
   },
   "outputs": [],
   "source": [
    "cluster=pd.read_table(\"training_data/cluster_map/cluster_map\",header=None)\n",
    "cluster=np.asarray(cluster)"
   ]
  },
  {
   "cell_type": "code",
   "execution_count": null,
   "metadata": {
    "collapsed": true
   },
   "outputs": [],
   "source": [
    "def get_matrix(path_data):\n",
    "    \n",
    "    names=[]\n",
    "    matrix=[]\n",
    "    fl=0\n",
    "    pathstemp=os.listdir(path_data+'/order_data/')\n",
    "    paths=sorted([x for x in pathstemp if x[0:2]!='._'])\n",
    "    for x1 in paths:\n",
    "        print x1\n",
    "        fl+=1\n",
    "        name=x1[19:21:1]\n",
    "        names.append(name)\n",
    "        order_data=pd.read_table(path_data+\"/order_data/order_data_2016-01-\"+name,header=None)\n",
    "        order_data=order_data.fillna(0)\n",
    "        order_data=np.asarray(order_data[[1,3,6]].dropna())\n",
    "        for x in range(cluster.shape[0]):\n",
    "            mask=cluster[x][0]==order_data[:,1]\n",
    "            order_data[mask,1]=cluster[x][1]\n",
    "        mask=order_data[:,0]!=0\n",
    "        order_data[mask,0]=1\n",
    "        dict1 = defaultdict(nested_dict_factory2)\n",
    "        a=np.datetime64(order_data[0,2])\n",
    "        a=a.astype(datetime)\n",
    "        dow=a.isoweekday()\n",
    "        for x in range(order_data.shape[0]):\n",
    "            a=np.datetime64(order_data[x,2])\n",
    "            #datetime(a)\n",
    "            a=a.astype(datetime)\n",
    "\n",
    "            slot=(a.hour*6)+(a.minute/10)\n",
    "            dict1[order_data[x,1]][slot]['total']+=1\n",
    "            if order_data[x,0]==1:\n",
    "                dict1[order_data[x,1]][slot]['supply']+=1\n",
    "        \n",
    "        listx=[[],[],[],[],[]]\n",
    "        for k2 in range(144):\n",
    "            for k1 in range(1,67):\n",
    "                listx[0].append(k1)\n",
    "                listx[1].append(k2)\n",
    "                listx[2].append(dow)\n",
    "                listx[3].append(dict1[k1][k2]['total'])\n",
    "                listx[4].append(dict1[k1][k2]['supply'])\n",
    "        nparr=np.array(listx)\n",
    "        nparr=nparr.T\n",
    "        \n",
    "        gap=nparr[:,3]-nparr[:,4]\n",
    "        gap=np.reshape(gap,(gap.shape[0],1))\n",
    "        nparr=np.hstack((nparr,gap)) \n",
    "        if fl==1:\n",
    "            matrix=nparr\n",
    "        else:\n",
    "            matrix=np.vstack((matrix,nparr))\n",
    "        del nparr\n",
    "        del dict1\n",
    "        del listx\n",
    "    return matrix\n",
    "    "
   ]
  },
  {
   "cell_type": "code",
   "execution_count": null,
   "metadata": {
    "collapsed": true
   },
   "outputs": [],
   "source": [
    "matrix=get_matrix(\"training_data\")"
   ]
  },
  {
   "cell_type": "code",
   "execution_count": null,
   "metadata": {
    "collapsed": true
   },
   "outputs": [],
   "source": [
    "print np.sum(matrix,axis=0).astype(np.object)"
   ]
  },
  {
   "cell_type": "code",
   "execution_count": null,
   "metadata": {
    "collapsed": true
   },
   "outputs": [],
   "source": []
  },
  {
   "cell_type": "code",
   "execution_count": null,
   "metadata": {
    "collapsed": true
   },
   "outputs": [],
   "source": []
  }
 ],
 "metadata": {
  "kernelspec": {
   "display_name": "Python [conda root]",
   "language": "python",
   "name": "conda-root-py"
  },
  "language_info": {
   "codemirror_mode": {
    "name": "ipython",
    "version": 2
   },
   "file_extension": ".py",
   "mimetype": "text/x-python",
   "name": "python",
   "nbconvert_exporter": "python",
   "pygments_lexer": "ipython2",
   "version": "2.7.12"
  }
 },
 "nbformat": 4,
 "nbformat_minor": 1
}
