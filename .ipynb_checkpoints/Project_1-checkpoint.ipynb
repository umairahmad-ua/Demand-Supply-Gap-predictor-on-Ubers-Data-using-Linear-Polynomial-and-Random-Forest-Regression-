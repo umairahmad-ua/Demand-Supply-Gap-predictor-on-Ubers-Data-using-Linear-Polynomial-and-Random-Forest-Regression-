{
 "cells": [
  {
   "cell_type": "code",
   "execution_count": 1,
   "metadata": {
    "collapsed": false
   },
   "outputs": [
    {
     "name": "stdout",
     "output_type": "stream",
     "text": [
      "Populating the interactive namespace from numpy and matplotlib\n"
     ]
    }
   ],
   "source": [
    "%pylab inline\n",
    "import scipy.stats\n",
    "from collections import defaultdict  # default dictionary \n",
    "plt.style.use('ggplot')\n",
    "matplotlib.rcParams['figure.figsize'] = (10.0, 8.0)\n",
    "%load_ext autoreload \n",
    "%autoreload 2"
   ]
  },
  {
   "cell_type": "code",
   "execution_count": 2,
   "metadata": {
    "collapsed": true
   },
   "outputs": [],
   "source": [
    "import numpy as np\n",
    "import tools as t\n",
    "import pandas as pd\n",
    "from datetime import datetime, date, time"
   ]
  },
  {
   "cell_type": "code",
   "execution_count": 3,
   "metadata": {
    "collapsed": false
   },
   "outputs": [],
   "source": [
    "cluster=pd.read_table(\"training_data/cluster_map/cluster_map\",header=None)\n",
    "cluster=np.asarray(cluster)"
   ]
  },
  {
   "cell_type": "code",
   "execution_count": 4,
   "metadata": {
    "collapsed": false
   },
   "outputs": [],
   "source": [
    "order_data=pd.read_table(\"training_data/order_data/order_data_2016-01-01\",header=None)\n",
    "order_data=order_data.fillna(0)\n",
    "order_data=np.asarray(order_data[[1,3,6]].dropna())\n",
    "for x in range(cluster.shape[0]):\n",
    "    mask=cluster[x][0]==order_data[:,1]\n",
    "    order_data[mask,1]=cluster[x][1]\n",
    "mask=order_data[:,0]!=0\n",
    "order_data[mask,0]=1"
   ]
  },
  {
   "cell_type": "code",
   "execution_count": 5,
   "metadata": {
    "collapsed": false
   },
   "outputs": [
    {
     "name": "stdout",
     "output_type": "stream",
     "text": [
      "[[1 23 '2016-01-01 13:37:23']\n",
      " [1 8 '2016-01-01 09:47:54']\n",
      " [1 32 '2016-01-01 18:24:02']\n",
      " ..., \n",
      " [1 7 '2016-01-01 21:49:58']\n",
      " [1 65 '2016-01-01 13:05:37']\n",
      " [1 51 '2016-01-01 11:05:59']]\n"
     ]
    }
   ],
   "source": [
    "print order_data"
   ]
  },
  {
   "cell_type": "code",
   "execution_count": 6,
   "metadata": {
    "collapsed": false
   },
   "outputs": [],
   "source": [
    "#a=np.datetime64(order_data[:,2])\n",
    "#for x in range(1,145):\n",
    "#    print x,x*600\n",
    "def nested_dict_factory(): \n",
    "    return defaultdict(int)\n",
    "def nested_dict_factory2():\n",
    "    return defaultdict(nested_dict_factory)\n",
    "dict1 = defaultdict(nested_dict_factory2)\n",
    "\n",
    "for x in range(order_data.shape[0]):\n",
    "    a=np.datetime64(order_data[x,2])\n",
    "    #datetime(a)\n",
    "    a=a.astype(datetime)\n",
    "    #print a.date(),str(a.time())\n",
    "    slot=(a.hour*6)+(a.minute/10)+1\n",
    "    dict1[order_data[x,1]][slot]['total']+=1\n",
    "    if order_data[x,0]==1:\n",
    "        dict1[order_data[x,1]][slot]['supply']+=1\n",
    "#print dict1"
   ]
  },
  {
   "cell_type": "code",
   "execution_count": null,
   "metadata": {
    "collapsed": true
   },
   "outputs": [],
   "source": []
  },
  {
   "cell_type": "code",
   "execution_count": 7,
   "metadata": {
    "collapsed": true
   },
   "outputs": [],
   "source": [
    "weather_data=pd.read_table(\"training_data/weather_data/weather_data_2016-01-01\",header=None)\n",
    "weather_data=np.asarray(weather_data)"
   ]
  },
  {
   "cell_type": "code",
   "execution_count": 8,
   "metadata": {
    "collapsed": false
   },
   "outputs": [
    {
     "name": "stdout",
     "output_type": "stream",
     "text": [
      "[['2016-01-01 00:00:28' 1 4.0 177]\n",
      " ['2016-01-01 00:05:24' 1 3.0 177]\n",
      " ['2016-01-01 00:10:08' 1 3.0 177]\n",
      " ..., \n",
      " ['2016-01-01 23:45:03' 2 8.0 131]\n",
      " ['2016-01-01 23:50:16' 2 8.0 131]\n",
      " ['2016-01-01 23:55:29' 2 8.0 131]]\n"
     ]
    }
   ],
   "source": [
    "print weather_data"
   ]
  },
  {
   "cell_type": "code",
   "execution_count": null,
   "metadata": {
    "collapsed": false
   },
   "outputs": [],
   "source": []
  },
  {
   "cell_type": "code",
   "execution_count": 14,
   "metadata": {
    "collapsed": false
   },
   "outputs": [
    {
     "name": "stdout",
     "output_type": "stream",
     "text": [
      "3.0\n"
     ]
    }
   ],
   "source": []
  },
  {
   "cell_type": "code",
   "execution_count": 9,
   "metadata": {
    "collapsed": false
   },
   "outputs": [],
   "source": [
    "listx=[[],[],[],[]]\n",
    "for k1 in dict1.iterkeys():\n",
    "    for k2 in range(1,145):\n",
    "        #print k1,k2,dict1[k1][k2]['total'],dict1[k1][k2]['total']\n",
    "        listx[0].append(k1)\n",
    "        listx[1].append(k2)\n",
    "        listx[2].append(dict1[k1][k2]['total'])\n",
    "        listx[3].append(dict1[k1][k2]['supply'])\n",
    "nparr=np.array(listx)\n",
    "nparr=nparr.T\n",
    "nparr=np.hstack((nparr,np.zeros((nparr.shape[0],3),dtype=np.float32)))"
   ]
  },
  {
   "cell_type": "code",
   "execution_count": 10,
   "metadata": {
    "collapsed": false,
    "scrolled": true
   },
   "outputs": [
    {
     "name": "stdout",
     "output_type": "stream",
     "text": [
      "(9504, 7)\n",
      "[[   1.    1.  187. ...,    0.    0.    0.]\n",
      " [   1.    2.  198. ...,    0.    0.    0.]\n",
      " [   1.    3.  192. ...,    0.    0.    0.]\n",
      " ..., \n",
      " [  66.  142.   10. ...,    0.    0.    0.]\n",
      " [  66.  143.    6. ...,    0.    0.    0.]\n",
      " [  66.  144.    9. ...,    0.    0.    0.]]\n"
     ]
    }
   ],
   "source": [
    "print nparr.shape\n",
    "print nparr"
   ]
  },
  {
   "cell_type": "code",
   "execution_count": 20,
   "metadata": {
    "collapsed": false
   },
   "outputs": [
    {
     "name": "stdout",
     "output_type": "stream",
     "text": [
      "[[   1.    1.  187. ...,    0.    9.    9.]\n",
      " [   1.    2.  198. ...,    0.    7.    7.]\n",
      " [   1.    3.  192. ...,    0.   10.   10.]\n",
      " ..., \n",
      " [  66.  142.   10. ...,    0.    0.    0.]\n",
      " [  66.  143.    6. ...,    0.    0.    0.]\n",
      " [  66.  144.    9. ...,    0.    0.    0.]]\n"
     ]
    }
   ],
   "source": [
    "gap=nparr[:,2]-nparr[:,3]\n",
    "gap=np.reshape(gap,(gap.shape[0],1))\n",
    "nparr=np.hstack((nparr,gap)) \n",
    "print nparr\n"
   ]
  },
  {
   "cell_type": "code",
   "execution_count": 21,
   "metadata": {
    "collapsed": false
   },
   "outputs": [
    {
     "name": "stdout",
     "output_type": "stream",
     "text": [
      "(9504, 9)\n"
     ]
    }
   ],
   "source": [
    "print nparr.shape"
   ]
  },
  {
   "cell_type": "code",
   "execution_count": null,
   "metadata": {
    "collapsed": true
   },
   "outputs": [],
   "source": []
  },
  {
   "cell_type": "code",
   "execution_count": 27,
   "metadata": {
    "collapsed": false
   },
   "outputs": [
    {
     "name": "stdout",
     "output_type": "stream",
     "text": [
      "[ 66.  45.] 7.0 7.0 = 0.0\n",
      "[ 66.  46.] 9.0 9.0 = 0.0\n",
      "[ 66.  47.] 9.0 9.0 = 0.0\n",
      "[ 66.  48.] 12.0 10.0 = 2.0\n",
      "[ 66.  49.] 15.0 14.0 = 1.0\n",
      "[ 66.  50.] 16.0 16.0 = 0.0\n",
      "[ 66.  51.] 19.0 18.0 = 1.0\n",
      "[ 66.  52.] 11.0 9.0 = 2.0\n",
      "[ 66.  53.] 15.0 14.0 = 1.0\n",
      "[ 66.  54.] 15.0 15.0 = 0.0\n",
      "[ 66.  55.] 13.0 13.0 = 0.0\n",
      "[ 66.  56.] 16.0 16.0 = 0.0\n",
      "[ 66.  57.] 14.0 13.0 = 1.0\n",
      "[ 66.  58.] 9.0 9.0 = 0.0\n",
      "[ 66.  59.] 7.0 7.0 = 0.0\n",
      "[ 66.  60.] 12.0 12.0 = 0.0\n",
      "[ 66.  61.] 7.0 7.0 = 0.0\n",
      "[ 66.  62.] 5.0 5.0 = 0.0\n",
      "[ 66.  63.] 9.0 9.0 = 0.0\n",
      "[ 66.  64.] 10.0 10.0 = 0.0\n",
      "[ 66.  65.] 13.0 12.0 = 1.0\n",
      "[ 66.  66.] 8.0 7.0 = 1.0\n",
      "[ 66.  67.] 12.0 12.0 = 0.0\n",
      "[ 66.  68.] 18.0 17.0 = 1.0\n",
      "[ 66.  69.] 10.0 8.0 = 2.0\n",
      "[ 66.  70.] 13.0 13.0 = 0.0\n",
      "[ 66.  71.] 17.0 17.0 = 0.0\n",
      "[ 66.  72.] 13.0 12.0 = 1.0\n",
      "[ 66.  73.] 20.0 19.0 = 1.0\n",
      "[ 66.  74.] 16.0 15.0 = 1.0\n",
      "[ 66.  75.] 13.0 13.0 = 0.0\n",
      "[ 66.  76.] 9.0 9.0 = 0.0\n",
      "[ 66.  77.] 14.0 14.0 = 0.0\n",
      "[ 66.  78.] 12.0 12.0 = 0.0\n",
      "[ 66.  79.] 12.0 12.0 = 0.0\n",
      "[ 66.  80.] 6.0 5.0 = 1.0\n",
      "[ 66.  81.] 10.0 10.0 = 0.0\n",
      "[ 66.  82.] 11.0 11.0 = 0.0\n",
      "[ 66.  83.] 19.0 19.0 = 0.0\n",
      "[ 66.  84.] 14.0 13.0 = 1.0\n",
      "[ 66.  85.] 10.0 10.0 = 0.0\n",
      "[ 66.  86.] 19.0 19.0 = 0.0\n",
      "[ 66.  87.] 17.0 17.0 = 0.0\n",
      "[ 66.  88.] 12.0 12.0 = 0.0\n",
      "[ 66.  89.] 16.0 16.0 = 0.0\n",
      "[ 66.  90.] 24.0 19.0 = 5.0\n",
      "[ 66.  91.] 21.0 18.0 = 3.0\n",
      "[ 66.  92.] 21.0 18.0 = 3.0\n",
      "[ 66.  93.] 13.0 13.0 = 0.0\n",
      "[ 66.  94.] 9.0 9.0 = 0.0\n",
      "[ 66.  95.] 12.0 11.0 = 1.0\n",
      "[ 66.  96.] 18.0 18.0 = 0.0\n",
      "[ 66.  97.] 20.0 20.0 = 0.0\n",
      "[ 66.  98.] 20.0 20.0 = 0.0\n",
      "[ 66.  99.] 17.0 17.0 = 0.0\n",
      "[  66.  100.] 14.0 13.0 = 1.0\n",
      "[  66.  101.] 32.0 31.0 = 1.0\n",
      "[  66.  102.] 20.0 19.0 = 1.0\n",
      "[  66.  103.] 28.0 24.0 = 4.0\n",
      "[  66.  104.] 22.0 20.0 = 2.0\n",
      "[  66.  105.] 29.0 27.0 = 2.0\n",
      "[  66.  106.] 31.0 30.0 = 1.0\n",
      "[  66.  107.] 19.0 19.0 = 0.0\n",
      "[  66.  108.] 19.0 19.0 = 0.0\n",
      "[  66.  109.] 20.0 20.0 = 0.0\n",
      "[  66.  110.] 18.0 18.0 = 0.0\n",
      "[  66.  111.] 13.0 13.0 = 0.0\n",
      "[  66.  112.] 17.0 16.0 = 1.0\n",
      "[  66.  113.] 21.0 21.0 = 0.0\n",
      "[  66.  114.] 15.0 15.0 = 0.0\n",
      "[  66.  115.] 12.0 11.0 = 1.0\n",
      "[  66.  116.] 17.0 17.0 = 0.0\n",
      "[  66.  117.] 17.0 16.0 = 1.0\n",
      "[  66.  118.] 14.0 13.0 = 1.0\n",
      "[  66.  119.] 22.0 22.0 = 0.0\n",
      "[  66.  120.] 20.0 20.0 = 0.0\n",
      "[  66.  121.] 21.0 21.0 = 0.0\n",
      "[  66.  122.] 17.0 17.0 = 0.0\n",
      "[  66.  123.] 20.0 18.0 = 2.0\n",
      "[  66.  124.] 16.0 16.0 = 0.0\n",
      "[  66.  125.] 18.0 17.0 = 1.0\n",
      "[  66.  126.] 15.0 15.0 = 0.0\n",
      "[  66.  127.] 12.0 12.0 = 0.0\n",
      "[  66.  128.] 15.0 15.0 = 0.0\n",
      "[  66.  129.] 20.0 19.0 = 1.0\n",
      "[  66.  130.] 10.0 10.0 = 0.0\n",
      "[  66.  131.] 5.0 5.0 = 0.0\n",
      "[  66.  132.] 7.0 7.0 = 0.0\n",
      "[  66.  133.] 8.0 8.0 = 0.0\n",
      "[  66.  134.] 9.0 9.0 = 0.0\n",
      "[  66.  135.] 5.0 5.0 = 0.0\n",
      "[  66.  136.] 12.0 11.0 = 1.0\n",
      "[  66.  137.] 10.0 9.0 = 1.0\n",
      "[  66.  138.] 7.0 7.0 = 0.0\n",
      "[  66.  139.] 2.0 2.0 = 0.0\n",
      "[  66.  140.] 5.0 5.0 = 0.0\n",
      "[  66.  141.] 4.0 4.0 = 0.0\n",
      "[  66.  142.] 10.0 10.0 = 0.0\n",
      "[  66.  143.] 6.0 6.0 = 0.0\n",
      "[  66.  144.] 9.0 9.0 = 0.0\n"
     ]
    }
   ],
   "source": [
    "for x in range(-100,0,1):\n",
    "    print nparr[x,0:2],nparr[x,2],nparr[x,3],'=',nparr[x,2]-nparr[x,3]"
   ]
  },
  {
   "cell_type": "code",
   "execution_count": 78,
   "metadata": {
    "collapsed": false
   },
   "outputs": [],
   "source": [
    "wdict = defaultdict(nested_dict_factory2)\n",
    "strt=0\n",
    "en=0\n",
    "lslot=0\n",
    "meanw=np.mean(weather_data[:,1:],axis=0)\n",
    "a=np.datetime64(weather_data[0,0])\n",
    "a=a.astype(datetime)\n",
    "prevslot=(a.hour*6)+(a.minute/10)+1\n",
    "startindex=0\n",
    "endindex=0\n",
    "for x in range(1,weather_data.shape[0]-1):\n",
    "    nexttime=np.datetime64(weather_data[x,0]).astype(datetime)\n",
    "    nextslot=(nexttime.hour*6)+(nexttime.minute/10)+1\n",
    "    #print nextslot,\n",
    "    if prevslot!=nextslot:\n",
    "        endindex=x-1\n",
    "        indexes=np.where(nparr[:,1]==prevslot)\n",
    "        nparr[indexes,4:]=np.mean(weather_data[startindex:endindex+1,1:],axis=0)\n",
    "        \n",
    "        startindex=endindex+1\n",
    "        prevslot=nextslot\n",
    "indexes=np.where(nparr[:,6]==0)\n",
    "nparr[indexes,4:]=meanw"
   ]
  },
  {
   "cell_type": "code",
   "execution_count": 79,
   "metadata": {
    "collapsed": false
   },
   "outputs": [
    {
     "name": "stdout",
     "output_type": "stream",
     "text": [
      "[[   1.            1.          187.         ...,    1.            3.5         177.        ]\n",
      " [   1.            2.          198.         ...,    1.            3.          177.        ]\n",
      " [   1.            3.          192.         ...,    1.            3.          177.        ]\n",
      " ..., \n",
      " [  66.          142.           10.         ...,    2.            8.          126.        ]\n",
      " [  66.          143.            6.         ...,    2.            8.          131.        ]\n",
      " [  66.          144.            9.         ...,    2.24731183\n",
      "     6.34408602  178.15770609]]\n"
     ]
    }
   ],
   "source": [
    "print nparr"
   ]
  },
  {
   "cell_type": "code",
   "execution_count": 16,
   "metadata": {
    "collapsed": false
   },
   "outputs": [
    {
     "name": "stdout",
     "output_type": "stream",
     "text": [
      "[0 21 '2016-01-01 00:12:39']\n",
      "[0 51 '2016-01-01 00:25:44']\n"
     ]
    }
   ],
   "source": [
    "print order_data[22]\n",
    "print order_data[14]"
   ]
  },
  {
   "cell_type": "code",
   "execution_count": 62,
   "metadata": {
    "collapsed": false
   },
   "outputs": [
    {
     "name": "stdout",
     "output_type": "stream",
     "text": [
      "[['dd65fa250fca2833a3a8c16d2cf0457c' 23 '2016-01-01 13:37:23']\n",
      " ['c077e0297639edcb1df6189e8cda2c3d' 8 '2016-01-01 09:47:54']\n",
      " ['86dbc1b68de435957c61b5a523854b69' 32 '2016-01-01 18:24:02']\n",
      " ..., \n",
      " ['8c4c2fea7256337d2bbcc9fd2d1ae349' 7 '2016-01-01 21:49:58']\n",
      " ['9ea6d19f8607f1a0df3fa1577b32953a' 65 '2016-01-01 13:05:37']\n",
      " ['c20498e62d06829df93c2b1455866d3d' 51 '2016-01-01 11:05:59']]\n"
     ]
    }
   ],
   "source": [
    "print order_data"
   ]
  },
  {
   "cell_type": "code",
   "execution_count": 61,
   "metadata": {
    "collapsed": false
   },
   "outputs": [
    {
     "name": "stdout",
     "output_type": "stream",
     "text": [
      "[['dd65fa250fca2833a3a8c16d2cf0457c' 23 '2016-01-01 13:37:23']\n",
      " ['c077e0297639edcb1df6189e8cda2c3d' 8 '2016-01-01 09:47:54']\n",
      " ['86dbc1b68de435957c61b5a523854b69' 32 '2016-01-01 18:24:02']\n",
      " ..., \n",
      " ['8c4c2fea7256337d2bbcc9fd2d1ae349' 7 '2016-01-01 21:49:58']\n",
      " ['9ea6d19f8607f1a0df3fa1577b32953a' 65 '2016-01-01 13:05:37']\n",
      " ['c20498e62d06829df93c2b1455866d3d' 51 '2016-01-01 11:05:59']]\n"
     ]
    }
   ],
   "source": []
  },
  {
   "cell_type": "code",
   "execution_count": 54,
   "metadata": {
    "collapsed": false
   },
   "outputs": [
    {
     "name": "stdout",
     "output_type": "stream",
     "text": [
      "90c5a34f06ac86aee0fd70e2adce7d8a\n"
     ]
    }
   ],
   "source": [
    "print clusternp[0][0]"
   ]
  },
  {
   "cell_type": "code",
   "execution_count": 57,
   "metadata": {
    "collapsed": false
   },
   "outputs": [
    {
     "name": "stdout",
     "output_type": "stream",
     "text": [
      "dd65fa250fca2833a3a8c16d2cf0457c 90c5a34f06ac86aee0fd70e2adce7d8a\n"
     ]
    }
   ],
   "source": [
    "print order_data[0][0],cluster[0][0]"
   ]
  },
  {
   "cell_type": "code",
   "execution_count": null,
   "metadata": {
    "collapsed": true
   },
   "outputs": [],
   "source": []
  }
 ],
 "metadata": {
  "anaconda-cloud": {},
  "kernelspec": {
   "display_name": "Python [conda root]",
   "language": "python",
   "name": "conda-root-py"
  },
  "language_info": {
   "codemirror_mode": {
    "name": "ipython",
    "version": 2
   },
   "file_extension": ".py",
   "mimetype": "text/x-python",
   "name": "python",
   "nbconvert_exporter": "python",
   "pygments_lexer": "ipython2",
   "version": "2.7.12"
  }
 },
 "nbformat": 4,
 "nbformat_minor": 1
}
