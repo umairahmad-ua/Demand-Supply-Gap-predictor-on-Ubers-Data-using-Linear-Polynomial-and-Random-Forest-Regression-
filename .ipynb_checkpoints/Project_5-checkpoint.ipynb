{
 "cells": [
  {
   "cell_type": "code",
   "execution_count": 1,
   "metadata": {
    "collapsed": false
   },
   "outputs": [
    {
     "name": "stdout",
     "output_type": "stream",
     "text": [
      "Populating the interactive namespace from numpy and matplotlib\n"
     ]
    }
   ],
   "source": [
    "%pylab inline\n",
    "import scipy.stats\n",
    "from collections import defaultdict\n",
    "import numpy as np\n",
    "import tools as t\n",
    "import pandas as pd\n",
    "from datetime import datetime, date, time\n",
    "import os"
   ]
  },
  {
   "cell_type": "code",
   "execution_count": 2,
   "metadata": {
    "collapsed": true
   },
   "outputs": [],
   "source": [
    "def nested_dict_factory(): \n",
    "    return defaultdict(int)\n",
    "def nested_dict_factory2():\n",
    "    return defaultdict(nested_dict_factory)"
   ]
  },
  {
   "cell_type": "code",
   "execution_count": 3,
   "metadata": {
    "collapsed": true
   },
   "outputs": [],
   "source": [
    "cluster=pd.read_table(\"training_data/cluster_map/cluster_map\",header=None)\n",
    "cluster=np.asarray(cluster)"
   ]
  },
  {
   "cell_type": "code",
   "execution_count": 4,
   "metadata": {
    "collapsed": true
   },
   "outputs": [],
   "source": [
    "file1=open('training_data/poi_data/poi_data','r')\n",
    "a=(file1.read())\n",
    "lines=a.splitlines()\n",
    "poi=[[],[]]\n",
    "for templine in lines:\n",
    "    t1=templine.split('\\t')\n",
    "    dictpoi = defaultdict(nested_dict_factory2)\n",
    "    for x in range(1,len(t1)):\n",
    "        cls_sub_count=t1[x].split('#')\n",
    "        if len(cls_sub_count)>1:\n",
    "            cls=cls_sub_count[0]\n",
    "            sub_counts=cls_sub_count[1]\n",
    "        else:\n",
    "            sub_counts=cls_sub_count[0]\n",
    "        \n",
    "        sub,count=sub_counts.split(':')\n",
    "        #print cls,sub,count\n",
    "        dictpoi[cls][sub]=count\n",
    "    maxcls=0\n",
    "    totalsum=0\n",
    "    for xd1 in dictpoi.iterkeys():\n",
    "        intxd1=int(xd1)\n",
    "        if maxcls<intxd1:\n",
    "            maxcls=intxd1\n",
    "    maxcls+=1\n",
    "\n",
    "    for xd1 in dictpoi.iterkeys():\n",
    "        for xd2 in dictpoi[xd1].iterkeys():\n",
    "            totalsum+=(maxcls-int(xd1))*int(xd2)*int(dictpoi[xd1][xd2])\n",
    "    poi[1].append(totalsum)\n",
    "    poi[0].append(t1[0])\n",
    "poi=np.array(poi).T\n",
    "poi=np.hstack((poi,np.zeros((poi.shape[0],1),dtype=np.int16)))\n"
   ]
  },
  {
   "cell_type": "code",
   "execution_count": 5,
   "metadata": {
    "collapsed": true
   },
   "outputs": [],
   "source": [
    "for x in range(66):\n",
    "    mask=poi[:,0]==cluster[x][0]\n",
    "    poi[x,2]=np.squeeze(np.where(mask==True,))+1"
   ]
  },
  {
   "cell_type": "code",
   "execution_count": 6,
   "metadata": {
    "collapsed": true
   },
   "outputs": [],
   "source": [
    "matrix=pd.read_csv('dataX.csv',sep=',')\n",
    "TestData=pd.read_csv('testdata.csv',sep=',')"
   ]
  },
  {
   "cell_type": "code",
   "execution_count": 7,
   "metadata": {
    "collapsed": false
   },
   "outputs": [
    {
     "data": {
      "text/html": [
       "<div>\n",
       "<table border=\"1\" class=\"dataframe\">\n",
       "  <thead>\n",
       "    <tr style=\"text-align: right;\">\n",
       "      <th></th>\n",
       "      <th>0</th>\n",
       "      <th>1</th>\n",
       "      <th>2</th>\n",
       "      <th>3</th>\n",
       "      <th>4</th>\n",
       "      <th>5</th>\n",
       "      <th>6</th>\n",
       "      <th>7</th>\n",
       "      <th>8</th>\n",
       "      <th>9</th>\n",
       "    </tr>\n",
       "  </thead>\n",
       "  <tbody>\n",
       "    <tr>\n",
       "      <th>count</th>\n",
       "      <td>199584.00000</td>\n",
       "      <td>199584.000000</td>\n",
       "      <td>199584.000000</td>\n",
       "      <td>199584.000000</td>\n",
       "      <td>199584.000000</td>\n",
       "      <td>199584.000000</td>\n",
       "      <td>199584.000000</td>\n",
       "      <td>199584.000000</td>\n",
       "      <td>199584.000000</td>\n",
       "      <td>1.995840e+05</td>\n",
       "    </tr>\n",
       "    <tr>\n",
       "      <th>mean</th>\n",
       "      <td>33.50000</td>\n",
       "      <td>71.500000</td>\n",
       "      <td>4.000000</td>\n",
       "      <td>42.792078</td>\n",
       "      <td>35.193973</td>\n",
       "      <td>3.040489</td>\n",
       "      <td>6.187362</td>\n",
       "      <td>119.630532</td>\n",
       "      <td>7.598104</td>\n",
       "      <td>3.973977e+07</td>\n",
       "    </tr>\n",
       "    <tr>\n",
       "      <th>std</th>\n",
       "      <td>19.05042</td>\n",
       "      <td>41.568321</td>\n",
       "      <td>2.000005</td>\n",
       "      <td>103.652317</td>\n",
       "      <td>75.187632</td>\n",
       "      <td>1.555854</td>\n",
       "      <td>3.700350</td>\n",
       "      <td>50.409283</td>\n",
       "      <td>45.229539</td>\n",
       "      <td>6.727068e+07</td>\n",
       "    </tr>\n",
       "    <tr>\n",
       "      <th>min</th>\n",
       "      <td>1.00000</td>\n",
       "      <td>0.000000</td>\n",
       "      <td>1.000000</td>\n",
       "      <td>0.000000</td>\n",
       "      <td>0.000000</td>\n",
       "      <td>1.000000</td>\n",
       "      <td>0.500000</td>\n",
       "      <td>26.000000</td>\n",
       "      <td>0.000000</td>\n",
       "      <td>4.233830e+05</td>\n",
       "    </tr>\n",
       "    <tr>\n",
       "      <th>25%</th>\n",
       "      <td>17.00000</td>\n",
       "      <td>35.750000</td>\n",
       "      <td>2.000000</td>\n",
       "      <td>1.000000</td>\n",
       "      <td>1.000000</td>\n",
       "      <td>2.000000</td>\n",
       "      <td>3.000000</td>\n",
       "      <td>84.000000</td>\n",
       "      <td>0.000000</td>\n",
       "      <td>7.747552e+06</td>\n",
       "    </tr>\n",
       "    <tr>\n",
       "      <th>50%</th>\n",
       "      <td>33.50000</td>\n",
       "      <td>71.500000</td>\n",
       "      <td>4.000000</td>\n",
       "      <td>7.000000</td>\n",
       "      <td>6.000000</td>\n",
       "      <td>2.680851</td>\n",
       "      <td>6.000000</td>\n",
       "      <td>115.000000</td>\n",
       "      <td>1.000000</td>\n",
       "      <td>1.540297e+07</td>\n",
       "    </tr>\n",
       "    <tr>\n",
       "      <th>75%</th>\n",
       "      <td>50.00000</td>\n",
       "      <td>107.250000</td>\n",
       "      <td>6.000000</td>\n",
       "      <td>32.000000</td>\n",
       "      <td>28.000000</td>\n",
       "      <td>4.000000</td>\n",
       "      <td>8.000000</td>\n",
       "      <td>153.148387</td>\n",
       "      <td>3.000000</td>\n",
       "      <td>3.866538e+07</td>\n",
       "    </tr>\n",
       "    <tr>\n",
       "      <th>max</th>\n",
       "      <td>66.00000</td>\n",
       "      <td>143.000000</td>\n",
       "      <td>7.000000</td>\n",
       "      <td>4362.000000</td>\n",
       "      <td>1084.000000</td>\n",
       "      <td>9.000000</td>\n",
       "      <td>19.000000</td>\n",
       "      <td>276.000000</td>\n",
       "      <td>3872.000000</td>\n",
       "      <td>4.350724e+08</td>\n",
       "    </tr>\n",
       "  </tbody>\n",
       "</table>\n",
       "</div>"
      ],
      "text/plain": [
       "                  0              1              2              3  \\\n",
       "count  199584.00000  199584.000000  199584.000000  199584.000000   \n",
       "mean       33.50000      71.500000       4.000000      42.792078   \n",
       "std        19.05042      41.568321       2.000005     103.652317   \n",
       "min         1.00000       0.000000       1.000000       0.000000   \n",
       "25%        17.00000      35.750000       2.000000       1.000000   \n",
       "50%        33.50000      71.500000       4.000000       7.000000   \n",
       "75%        50.00000     107.250000       6.000000      32.000000   \n",
       "max        66.00000     143.000000       7.000000    4362.000000   \n",
       "\n",
       "                   4              5              6              7  \\\n",
       "count  199584.000000  199584.000000  199584.000000  199584.000000   \n",
       "mean       35.193973       3.040489       6.187362     119.630532   \n",
       "std        75.187632       1.555854       3.700350      50.409283   \n",
       "min         0.000000       1.000000       0.500000      26.000000   \n",
       "25%         1.000000       2.000000       3.000000      84.000000   \n",
       "50%         6.000000       2.680851       6.000000     115.000000   \n",
       "75%        28.000000       4.000000       8.000000     153.148387   \n",
       "max      1084.000000       9.000000      19.000000     276.000000   \n",
       "\n",
       "                   8             9  \n",
       "count  199584.000000  1.995840e+05  \n",
       "mean        7.598104  3.973977e+07  \n",
       "std        45.229539  6.727068e+07  \n",
       "min         0.000000  4.233830e+05  \n",
       "25%         0.000000  7.747552e+06  \n",
       "50%         1.000000  1.540297e+07  \n",
       "75%         3.000000  3.866538e+07  \n",
       "max      3872.000000  4.350724e+08  "
      ]
     },
     "execution_count": 7,
     "metadata": {},
     "output_type": "execute_result"
    }
   ],
   "source": [
    "matrix.describe()"
   ]
  },
  {
   "cell_type": "code",
   "execution_count": 8,
   "metadata": {
    "collapsed": false
   },
   "outputs": [
    {
     "data": {
      "text/html": [
       "<div>\n",
       "<table border=\"1\" class=\"dataframe\">\n",
       "  <thead>\n",
       "    <tr style=\"text-align: right;\">\n",
       "      <th></th>\n",
       "      <th>0</th>\n",
       "      <th>1</th>\n",
       "      <th>2</th>\n",
       "      <th>3</th>\n",
       "      <th>4</th>\n",
       "      <th>5</th>\n",
       "      <th>6</th>\n",
       "      <th>7</th>\n",
       "    </tr>\n",
       "  </thead>\n",
       "  <tbody>\n",
       "    <tr>\n",
       "      <th>count</th>\n",
       "      <td>47520.000000</td>\n",
       "      <td>47520.000000</td>\n",
       "      <td>47520.000000</td>\n",
       "      <td>47520.000000</td>\n",
       "      <td>47520.000000</td>\n",
       "      <td>47520.000000</td>\n",
       "      <td>47520.000000</td>\n",
       "      <td>4.752000e+04</td>\n",
       "    </tr>\n",
       "    <tr>\n",
       "      <th>mean</th>\n",
       "      <td>33.500000</td>\n",
       "      <td>71.500000</td>\n",
       "      <td>4.400000</td>\n",
       "      <td>11.681881</td>\n",
       "      <td>2.956595</td>\n",
       "      <td>1.780635</td>\n",
       "      <td>65.375667</td>\n",
       "      <td>3.973977e+07</td>\n",
       "    </tr>\n",
       "    <tr>\n",
       "      <th>std</th>\n",
       "      <td>19.050572</td>\n",
       "      <td>41.568654</td>\n",
       "      <td>2.154089</td>\n",
       "      <td>64.389835</td>\n",
       "      <td>1.197576</td>\n",
       "      <td>2.447707</td>\n",
       "      <td>17.491216</td>\n",
       "      <td>6.727122e+07</td>\n",
       "    </tr>\n",
       "    <tr>\n",
       "      <th>min</th>\n",
       "      <td>1.000000</td>\n",
       "      <td>0.000000</td>\n",
       "      <td>1.000000</td>\n",
       "      <td>0.000000</td>\n",
       "      <td>1.000000</td>\n",
       "      <td>-6.000000</td>\n",
       "      <td>29.000000</td>\n",
       "      <td>4.233830e+05</td>\n",
       "    </tr>\n",
       "    <tr>\n",
       "      <th>25%</th>\n",
       "      <td>17.000000</td>\n",
       "      <td>35.750000</td>\n",
       "      <td>3.000000</td>\n",
       "      <td>0.000000</td>\n",
       "      <td>2.545455</td>\n",
       "      <td>0.125000</td>\n",
       "      <td>55.125000</td>\n",
       "      <td>7.747552e+06</td>\n",
       "    </tr>\n",
       "    <tr>\n",
       "      <th>50%</th>\n",
       "      <td>33.500000</td>\n",
       "      <td>71.500000</td>\n",
       "      <td>5.000000</td>\n",
       "      <td>0.000000</td>\n",
       "      <td>2.958333</td>\n",
       "      <td>2.000000</td>\n",
       "      <td>59.727273</td>\n",
       "      <td>1.540297e+07</td>\n",
       "    </tr>\n",
       "    <tr>\n",
       "      <th>75%</th>\n",
       "      <td>50.000000</td>\n",
       "      <td>107.250000</td>\n",
       "      <td>6.000000</td>\n",
       "      <td>0.000000</td>\n",
       "      <td>3.529412</td>\n",
       "      <td>4.208333</td>\n",
       "      <td>81.894737</td>\n",
       "      <td>3.866538e+07</td>\n",
       "    </tr>\n",
       "    <tr>\n",
       "      <th>max</th>\n",
       "      <td>66.000000</td>\n",
       "      <td>143.000000</td>\n",
       "      <td>7.000000</td>\n",
       "      <td>1876.000000</td>\n",
       "      <td>8.000000</td>\n",
       "      <td>6.000000</td>\n",
       "      <td>117.000000</td>\n",
       "      <td>4.350724e+08</td>\n",
       "    </tr>\n",
       "  </tbody>\n",
       "</table>\n",
       "</div>"
      ],
      "text/plain": [
       "                  0             1             2             3             4  \\\n",
       "count  47520.000000  47520.000000  47520.000000  47520.000000  47520.000000   \n",
       "mean      33.500000     71.500000      4.400000     11.681881      2.956595   \n",
       "std       19.050572     41.568654      2.154089     64.389835      1.197576   \n",
       "min        1.000000      0.000000      1.000000      0.000000      1.000000   \n",
       "25%       17.000000     35.750000      3.000000      0.000000      2.545455   \n",
       "50%       33.500000     71.500000      5.000000      0.000000      2.958333   \n",
       "75%       50.000000    107.250000      6.000000      0.000000      3.529412   \n",
       "max       66.000000    143.000000      7.000000   1876.000000      8.000000   \n",
       "\n",
       "                  5             6             7  \n",
       "count  47520.000000  47520.000000  4.752000e+04  \n",
       "mean       1.780635     65.375667  3.973977e+07  \n",
       "std        2.447707     17.491216  6.727122e+07  \n",
       "min       -6.000000     29.000000  4.233830e+05  \n",
       "25%        0.125000     55.125000  7.747552e+06  \n",
       "50%        2.000000     59.727273  1.540297e+07  \n",
       "75%        4.208333     81.894737  3.866538e+07  \n",
       "max        6.000000    117.000000  4.350724e+08  "
      ]
     },
     "execution_count": 8,
     "metadata": {},
     "output_type": "execute_result"
    }
   ],
   "source": [
    "TestData.describe()"
   ]
  },
  {
   "cell_type": "code",
   "execution_count": 9,
   "metadata": {
    "collapsed": true
   },
   "outputs": [],
   "source": [
    "def append_isweekend(mat):\n",
    "    mat=np.hstack((mat,np.zeros((mat.shape[0],1),dtype=np.float32)))\n",
    "    mask=np.logical_or(mat[:,2]==6,mat[:,2]==7)\n",
    "    mat[mask,-1]=1\n",
    "    return mat"
   ]
  },
  {
   "cell_type": "code",
   "execution_count": 10,
   "metadata": {
    "collapsed": false
   },
   "outputs": [],
   "source": [
    "#matrix=append_isweekend(np.asarray(matrix))\n",
    "#TestData=append_isweekend(np.asarray(TestData))\n",
    "matrix=np.asarray(matrix)\n",
    "TestData=np.asarray(TestData)"
   ]
  },
  {
   "cell_type": "code",
   "execution_count": 11,
   "metadata": {
    "collapsed": false
   },
   "outputs": [
    {
     "name": "stdout",
     "output_type": "stream",
     "text": [
      "[  1.00000000e+00   0.00000000e+00   5.00000000e+00   1.87000000e+02\n",
      "   1.78000000e+02   1.00000000e+00   3.50000000e+00   1.77000000e+02\n",
      "   9.00000000e+00   1.02144780e+07]\n",
      "[  1.00000000e+00   0.00000000e+00   6.00000000e+00   0.00000000e+00\n",
      "   2.54545455e+00  -1.90909091e+00   5.97272727e+01   1.02144780e+07]\n"
     ]
    }
   ],
   "source": [
    "print matrix[0]\n",
    "print TestData[0]"
   ]
  },
  {
   "cell_type": "code",
   "execution_count": 12,
   "metadata": {
    "collapsed": true
   },
   "outputs": [],
   "source": [
    "#Xdata=matrix[:,[0,1,2,3,5,6,7,9,10]]\n",
    "Xdata=matrix[:,[0,1,2,3,5,7,9]]\n",
    "Ydata=matrix[:,8]"
   ]
  },
  {
   "cell_type": "code",
   "execution_count": 13,
   "metadata": {
    "collapsed": true
   },
   "outputs": [],
   "source": [
    "#testData=TestData[:,[0,1,2,3,4,5,6,7,8]]\n",
    "testData=TestData[:,[0,1,2,3,4,6,7]]"
   ]
  },
  {
   "cell_type": "code",
   "execution_count": 14,
   "metadata": {
    "collapsed": false
   },
   "outputs": [
    {
     "name": "stdout",
     "output_type": "stream",
     "text": [
      "[  1.00000000e+00   0.00000000e+00   5.00000000e+00   1.87000000e+02\n",
      "   1.00000000e+00   1.77000000e+02   1.02144780e+07]\n",
      "[  1.00000000e+00   0.00000000e+00   6.00000000e+00   0.00000000e+00\n",
      "   2.54545455e+00   5.97272727e+01   1.02144780e+07]\n"
     ]
    }
   ],
   "source": [
    "print Xdata[0]\n",
    "print testData[0]"
   ]
  },
  {
   "cell_type": "code",
   "execution_count": 15,
   "metadata": {
    "collapsed": true
   },
   "outputs": [],
   "source": [
    "from sklearn.cross_validation import train_test_split\n",
    "Xtrain, Xtest, ytrain, ytest = train_test_split(Xdata, Ydata,test_size=0.30)"
   ]
  },
  {
   "cell_type": "code",
   "execution_count": 16,
   "metadata": {
    "collapsed": true
   },
   "outputs": [],
   "source": [
    "from sklearn.ensemble import RandomForestRegressor"
   ]
  },
  {
   "cell_type": "code",
   "execution_count": 43,
   "metadata": {
    "collapsed": false
   },
   "outputs": [
    {
     "name": "stdout",
     "output_type": "stream",
     "text": [
      "training error= 0.7928900181 0.835141867323\n",
      "Test error= 2.13606719781 2.07824503975\n"
     ]
    }
   ],
   "source": [
    "#Xtrain, Xtest, ytrain, ytest = train_test_split(Xdata, Ydata,test_size=0.30)\n",
    "model=RandomForestRegressor(random_state=0,n_estimators=50,max_depth=17)\n",
    "model.fit(Xtrain, ytrain)\n",
    "y_test=model.predict(Xtrain)\n",
    "print 'training error=',np.mean(np.abs(y_test-ytrain)),np.mean(np.abs(np.array(y_test,dtype=np.int32)-ytrain))\n",
    "\n",
    "y_test = model.predict(Xtest)\n",
    "\n",
    "print 'Test error=',np.mean(np.abs(y_test-ytest)),np.mean(np.abs(np.array(y_test,dtype=np.int32)-ytest))\n",
    "#result_array=np.array(y_test,dtype=np.int32)\n",
    "#print np.mean(np.abs(result_array-ytest))"
   ]
  },
  {
   "cell_type": "code",
   "execution_count": 51,
   "metadata": {
    "collapsed": false
   },
   "outputs": [],
   "source": [
    "model.fit(Xdata, Ydata)\n",
    "y_test = model.predict(testData)"
   ]
  },
  {
   "cell_type": "code",
   "execution_count": 52,
   "metadata": {
    "collapsed": false
   },
   "outputs": [
    {
     "data": {
      "text/html": [
       "<div>\n",
       "<table border=\"1\" class=\"dataframe\">\n",
       "  <thead>\n",
       "    <tr style=\"text-align: right;\">\n",
       "      <th></th>\n",
       "      <th>0</th>\n",
       "    </tr>\n",
       "  </thead>\n",
       "  <tbody>\n",
       "    <tr>\n",
       "      <th>count</th>\n",
       "      <td>47520.000000</td>\n",
       "    </tr>\n",
       "    <tr>\n",
       "      <th>mean</th>\n",
       "      <td>2.329777</td>\n",
       "    </tr>\n",
       "    <tr>\n",
       "      <th>std</th>\n",
       "      <td>26.570740</td>\n",
       "    </tr>\n",
       "    <tr>\n",
       "      <th>min</th>\n",
       "      <td>0.000000</td>\n",
       "    </tr>\n",
       "    <tr>\n",
       "      <th>25%</th>\n",
       "      <td>0.000000</td>\n",
       "    </tr>\n",
       "    <tr>\n",
       "      <th>50%</th>\n",
       "      <td>0.000000</td>\n",
       "    </tr>\n",
       "    <tr>\n",
       "      <th>75%</th>\n",
       "      <td>0.000000</td>\n",
       "    </tr>\n",
       "    <tr>\n",
       "      <th>max</th>\n",
       "      <td>1244.000000</td>\n",
       "    </tr>\n",
       "  </tbody>\n",
       "</table>\n",
       "</div>"
      ],
      "text/plain": [
       "                  0\n",
       "count  47520.000000\n",
       "mean       2.329777\n",
       "std       26.570740\n",
       "min        0.000000\n",
       "25%        0.000000\n",
       "50%        0.000000\n",
       "75%        0.000000\n",
       "max     1244.000000"
      ]
     },
     "execution_count": 52,
     "metadata": {},
     "output_type": "execute_result"
    }
   ],
   "source": [
    "y_test=np.array(y_test,dtype=np.int32)\n",
    "pd.DataFrame(y_test).describe()"
   ]
  },
  {
   "cell_type": "code",
   "execution_count": 53,
   "metadata": {
    "collapsed": true
   },
   "outputs": [],
   "source": [
    "mask=testData[:,3]<=y_test\n",
    "y_test[mask]=testData[mask,3]"
   ]
  },
  {
   "cell_type": "code",
   "execution_count": 54,
   "metadata": {
    "collapsed": false
   },
   "outputs": [
    {
     "name": "stdout",
     "output_type": "stream",
     "text": [
      "['order_data_2016-01-23', 'order_data_2016-01-25', 'order_data_2016-01-27', 'order_data_2016-01-29', 'order_data_2016-01-31']\n",
      "(47520, 7) (47520,)\n"
     ]
    }
   ],
   "source": [
    "filesub=testData.copy()\n",
    "#filesub=filesub.astype(np.int)\n",
    "filesub=filesub.astype(np.object)\n",
    "#filesub=filesub.astype(np.str)\n",
    "pathstemp=os.listdir('test_set/order_data/')\n",
    "paths=sorted([x for x in pathstemp if x[0:2]!='._'])\n",
    "print paths\n",
    "\n",
    "for x in range(cluster.shape[0]):\n",
    "    mask=cluster[x][1]==filesub[:,0]\n",
    "    filesub[mask,0]=cluster[x][0]\n",
    "i=0\n",
    "for x in paths:\n",
    "    name=x[11:]\n",
    "    for x2 in range(i*9504,(i+1)*9504,1):\n",
    "        filesub[x2,2]=name\n",
    "    i+=1\n",
    "\n",
    "print filesub.shape,y_test.shape\n",
    "filesub1=[[],[]]\n",
    "for x in range(filesub.shape[0]):\n",
    "    filesub1[0].append(filesub[x,0]+'_'+filesub[x,2]+'_'+str(int(filesub[x,1])))\n",
    "    filesub1[1].append(y_test[x])\n",
    "data=pd.DataFrame({\n",
    "        'id':filesub1[0],\n",
    "        'gap':filesub1[1]\n",
    "    })\n"
   ]
  },
  {
   "cell_type": "code",
   "execution_count": 55,
   "metadata": {
    "collapsed": false
   },
   "outputs": [
    {
     "data": {
      "text/html": [
       "<div>\n",
       "<table border=\"1\" class=\"dataframe\">\n",
       "  <thead>\n",
       "    <tr style=\"text-align: right;\">\n",
       "      <th></th>\n",
       "      <th>gap</th>\n",
       "    </tr>\n",
       "  </thead>\n",
       "  <tbody>\n",
       "    <tr>\n",
       "      <th>count</th>\n",
       "      <td>47520.000000</td>\n",
       "    </tr>\n",
       "    <tr>\n",
       "      <th>mean</th>\n",
       "      <td>2.329777</td>\n",
       "    </tr>\n",
       "    <tr>\n",
       "      <th>std</th>\n",
       "      <td>26.569880</td>\n",
       "    </tr>\n",
       "    <tr>\n",
       "      <th>min</th>\n",
       "      <td>0.000000</td>\n",
       "    </tr>\n",
       "    <tr>\n",
       "      <th>25%</th>\n",
       "      <td>0.000000</td>\n",
       "    </tr>\n",
       "    <tr>\n",
       "      <th>50%</th>\n",
       "      <td>0.000000</td>\n",
       "    </tr>\n",
       "    <tr>\n",
       "      <th>75%</th>\n",
       "      <td>0.000000</td>\n",
       "    </tr>\n",
       "    <tr>\n",
       "      <th>max</th>\n",
       "      <td>1244.000000</td>\n",
       "    </tr>\n",
       "  </tbody>\n",
       "</table>\n",
       "</div>"
      ],
      "text/plain": [
       "                gap\n",
       "count  47520.000000\n",
       "mean       2.329777\n",
       "std       26.569880\n",
       "min        0.000000\n",
       "25%        0.000000\n",
       "50%        0.000000\n",
       "75%        0.000000\n",
       "max     1244.000000"
      ]
     },
     "execution_count": 55,
     "metadata": {},
     "output_type": "execute_result"
    }
   ],
   "source": [
    "data.describe()"
   ]
  },
  {
   "cell_type": "code",
   "execution_count": 56,
   "metadata": {
    "collapsed": true
   },
   "outputs": [],
   "source": [
    "data.to_csv('output12.csv',columns=['id','gap'],index=False)"
   ]
  },
  {
   "cell_type": "code",
   "execution_count": null,
   "metadata": {
    "collapsed": true
   },
   "outputs": [],
   "source": []
  }
 ],
 "metadata": {
  "anaconda-cloud": {},
  "kernelspec": {
   "display_name": "Python [conda root]",
   "language": "python",
   "name": "conda-root-py"
  },
  "language_info": {
   "codemirror_mode": {
    "name": "ipython",
    "version": 2
   },
   "file_extension": ".py",
   "mimetype": "text/x-python",
   "name": "python",
   "nbconvert_exporter": "python",
   "pygments_lexer": "ipython2",
   "version": "2.7.12"
  }
 },
 "nbformat": 4,
 "nbformat_minor": 1
}
